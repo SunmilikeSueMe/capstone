{
 "cells": [
  {
   "cell_type": "markdown",
   "metadata": {},
   "source": [
    "# Computing Vision Original Video Content Analysis "
   ]
  },
  {
   "cell_type": "markdown",
   "metadata": {},
   "source": [
    "<b>OVERVIEW<b>"
   ]
  },
  {
   "cell_type": "markdown",
   "metadata": {},
   "source": [
    "This project profers three data driven recommendations for Computing Vision to support their diversification into the original-video content market. Computing vision can us the recommendations made within this analysis to influence their budgeting decisions, genre selection, and market entry strategy"
   ]
  },
  {
   "cell_type": "markdown",
   "metadata": {},
   "source": [
    "<b>BUSINESS PROBLEM<b>"
   ]
  },
  {
   "cell_type": "markdown",
   "metadata": {},
   "source": [
    "Computing Vision has decided to create a new movie studio, but they don’t have much background in creating movies. Recommendations on what types of films currently perform the best at the box office would help Computing Vision's new movie studio decide what type of films to create."
   ]
  },
  {
   "cell_type": "markdown",
   "metadata": {},
   "source": [
    "<b>DATA UNDERSTANDING<b>\n"
   ]
  },
  {
   "cell_type": "markdown",
   "metadata": {},
   "source": [
    "The data used for this analysis came from Box Office, IMDB, Rotten Tomatoes, Movie DB, and Numbers. The datasets contain thousands of information describing different details about movies released within the past decade years. Some of the descriptors include, ratings, genres, budget, movie title, directors, movie revenue amongst others. "
   ]
  },
  {
   "cell_type": "code",
   "execution_count": 2,
   "metadata": {},
   "outputs": [],
   "source": [
    "import pandas as pd"
   ]
  },
  {
   "cell_type": "code",
   "execution_count": 3,
   "metadata": {},
   "outputs": [],
   "source": [
    "movie_budget = pd.read_csv(\"Datasets/tn.movie_budgets.csv.gz\")\n"
   ]
  },
  {
   "cell_type": "code",
   "execution_count": 4,
   "metadata": {},
   "outputs": [],
   "source": [
    "import sqlite3\n",
    "\n",
    "from zipfile import ZipFile\n",
    "  \n",
    "with ZipFile(\"Datasets/im.db.zip\", 'r') as zObject:\n",
    "    zObject.extractall(\n",
    "        path=\"IMDB/\")\n",
    "conn = sqlite3.connect(\"IMDB/im.db\")\n",
    "cur = conn.cursor()\n",
    "imdb= pd.read_sql('''\n",
    "    SELECT * \n",
    "    FROM persons;\n",
    "\n",
    "''', conn)\n",
    "data =  \"\"\"\n",
    "SELECT *\n",
    "FROM movie_ratings AS \"mr\" \n",
    "LEFT JOIN movie_basics AS \"m\"\n",
    "    ON m.movie_ID=mr.movie_ID\n",
    "\n",
    "\"\"\"\n",
    "movie_data = pd.read_sql(data, conn)"
   ]
  },
  {
   "cell_type": "code",
   "execution_count": 5,
   "metadata": {},
   "outputs": [
    {
     "name": "stdout",
     "output_type": "stream",
     "text": [
      "<class 'pandas.core.frame.DataFrame'>\n",
      "RangeIndex: 5782 entries, 0 to 5781\n",
      "Data columns (total 6 columns):\n",
      " #   Column             Non-Null Count  Dtype \n",
      "---  ------             --------------  ----- \n",
      " 0   id                 5782 non-null   int64 \n",
      " 1   release_date       5782 non-null   object\n",
      " 2   movie              5782 non-null   object\n",
      " 3   production_budget  5782 non-null   object\n",
      " 4   domestic_gross     5782 non-null   object\n",
      " 5   worldwide_gross    5782 non-null   object\n",
      "dtypes: int64(1), object(5)\n",
      "memory usage: 271.2+ KB\n"
     ]
    }
   ],
   "source": [
    "movie_budget.info()"
   ]
  },
  {
   "cell_type": "code",
   "execution_count": 6,
   "metadata": {
    "scrolled": false
   },
   "outputs": [
    {
     "name": "stdout",
     "output_type": "stream",
     "text": [
      "<class 'pandas.core.frame.DataFrame'>\n",
      "RangeIndex: 73856 entries, 0 to 73855\n",
      "Data columns (total 9 columns):\n",
      " #   Column           Non-Null Count  Dtype  \n",
      "---  ------           --------------  -----  \n",
      " 0   movie_id         73856 non-null  object \n",
      " 1   averagerating    73856 non-null  float64\n",
      " 2   numvotes         73856 non-null  int64  \n",
      " 3   movie_id         73856 non-null  object \n",
      " 4   primary_title    73856 non-null  object \n",
      " 5   original_title   73856 non-null  object \n",
      " 6   start_year       73856 non-null  int64  \n",
      " 7   runtime_minutes  66236 non-null  float64\n",
      " 8   genres           73052 non-null  object \n",
      "dtypes: float64(2), int64(2), object(5)\n",
      "memory usage: 5.1+ MB\n"
     ]
    }
   ],
   "source": [
    "movie_data.info()"
   ]
  },
  {
   "cell_type": "markdown",
   "metadata": {},
   "source": [
    "<b>MOVIE BUDGET DATA<b>"
   ]
  },
  {
   "cell_type": "markdown",
   "metadata": {},
   "source": [
    "This dataset consist information about movies from 1915 to 2020 with information about their domestic, foreign and worldwide gross  "
   ]
  },
  {
   "cell_type": "code",
   "execution_count": 7,
   "metadata": {},
   "outputs": [
    {
     "data": {
      "text/html": [
       "<div>\n",
       "<style scoped>\n",
       "    .dataframe tbody tr th:only-of-type {\n",
       "        vertical-align: middle;\n",
       "    }\n",
       "\n",
       "    .dataframe tbody tr th {\n",
       "        vertical-align: top;\n",
       "    }\n",
       "\n",
       "    .dataframe thead th {\n",
       "        text-align: right;\n",
       "    }\n",
       "</style>\n",
       "<table border=\"1\" class=\"dataframe\">\n",
       "  <thead>\n",
       "    <tr style=\"text-align: right;\">\n",
       "      <th></th>\n",
       "      <th>id</th>\n",
       "      <th>release_date</th>\n",
       "      <th>movie</th>\n",
       "      <th>production_budget</th>\n",
       "      <th>domestic_gross</th>\n",
       "      <th>worldwide_gross</th>\n",
       "    </tr>\n",
       "  </thead>\n",
       "  <tbody>\n",
       "    <tr>\n",
       "      <th>0</th>\n",
       "      <td>1</td>\n",
       "      <td>Dec 18, 2009</td>\n",
       "      <td>Avatar</td>\n",
       "      <td>$425,000,000</td>\n",
       "      <td>$760,507,625</td>\n",
       "      <td>$2,776,345,279</td>\n",
       "    </tr>\n",
       "    <tr>\n",
       "      <th>1</th>\n",
       "      <td>2</td>\n",
       "      <td>May 20, 2011</td>\n",
       "      <td>Pirates of the Caribbean: On Stranger Tides</td>\n",
       "      <td>$410,600,000</td>\n",
       "      <td>$241,063,875</td>\n",
       "      <td>$1,045,663,875</td>\n",
       "    </tr>\n",
       "    <tr>\n",
       "      <th>2</th>\n",
       "      <td>3</td>\n",
       "      <td>Jun 7, 2019</td>\n",
       "      <td>Dark Phoenix</td>\n",
       "      <td>$350,000,000</td>\n",
       "      <td>$42,762,350</td>\n",
       "      <td>$149,762,350</td>\n",
       "    </tr>\n",
       "    <tr>\n",
       "      <th>3</th>\n",
       "      <td>4</td>\n",
       "      <td>May 1, 2015</td>\n",
       "      <td>Avengers: Age of Ultron</td>\n",
       "      <td>$330,600,000</td>\n",
       "      <td>$459,005,868</td>\n",
       "      <td>$1,403,013,963</td>\n",
       "    </tr>\n",
       "    <tr>\n",
       "      <th>4</th>\n",
       "      <td>5</td>\n",
       "      <td>Dec 15, 2017</td>\n",
       "      <td>Star Wars Ep. VIII: The Last Jedi</td>\n",
       "      <td>$317,000,000</td>\n",
       "      <td>$620,181,382</td>\n",
       "      <td>$1,316,721,747</td>\n",
       "    </tr>\n",
       "  </tbody>\n",
       "</table>\n",
       "</div>"
      ],
      "text/plain": [
       "   id  release_date                                        movie  \\\n",
       "0   1  Dec 18, 2009                                       Avatar   \n",
       "1   2  May 20, 2011  Pirates of the Caribbean: On Stranger Tides   \n",
       "2   3   Jun 7, 2019                                 Dark Phoenix   \n",
       "3   4   May 1, 2015                      Avengers: Age of Ultron   \n",
       "4   5  Dec 15, 2017            Star Wars Ep. VIII: The Last Jedi   \n",
       "\n",
       "  production_budget domestic_gross worldwide_gross  \n",
       "0      $425,000,000   $760,507,625  $2,776,345,279  \n",
       "1      $410,600,000   $241,063,875  $1,045,663,875  \n",
       "2      $350,000,000    $42,762,350    $149,762,350  \n",
       "3      $330,600,000   $459,005,868  $1,403,013,963  \n",
       "4      $317,000,000   $620,181,382  $1,316,721,747  "
      ]
     },
     "execution_count": 7,
     "metadata": {},
     "output_type": "execute_result"
    }
   ],
   "source": [
    "movie_budget.head()"
   ]
  },
  {
   "cell_type": "code",
   "execution_count": 8,
   "metadata": {},
   "outputs": [
    {
     "name": "stderr",
     "output_type": "stream",
     "text": [
      "<ipython-input-8-82e8178cff15>:2: FutureWarning: Treating datetime data as categorical rather than numeric in `.describe` is deprecated and will be removed in a future version of pandas. Specify `datetime_is_numeric=True` to silence this warning and adopt the future behavior now.\n",
      "  movie_budget['Release_Date'].describe()\n"
     ]
    },
    {
     "data": {
      "text/plain": [
       "count                    5782\n",
       "unique                   2418\n",
       "top       2014-12-31 00:00:00\n",
       "freq                       24\n",
       "first     1915-02-08 00:00:00\n",
       "last      2020-12-31 00:00:00\n",
       "Name: Release_Date, dtype: object"
      ]
     },
     "execution_count": 8,
     "metadata": {},
     "output_type": "execute_result"
    }
   ],
   "source": [
    "movie_budget['Release_Date'] =  pd.to_datetime(movie_budget['release_date'])\n",
    "movie_budget['Release_Date'].describe()"
   ]
  },
  {
   "cell_type": "code",
   "execution_count": 9,
   "metadata": {},
   "outputs": [
    {
     "data": {
      "text/plain": [
       "count     5782\n",
       "unique    5164\n",
       "top         $0\n",
       "freq       548\n",
       "Name: domestic_gross, dtype: object"
      ]
     },
     "execution_count": 9,
     "metadata": {},
     "output_type": "execute_result"
    }
   ],
   "source": [
    "movie_budget['domestic_gross'].describe()"
   ]
  },
  {
   "cell_type": "markdown",
   "metadata": {},
   "source": [
    "<b>MOVIE DATA<b>"
   ]
  },
  {
   "cell_type": "markdown",
   "metadata": {},
   "source": [
    "The movie dataset contains information from movie basic and movie rating table with records about different genres from year 2012 to 2019"
   ]
  },
  {
   "cell_type": "code",
   "execution_count": 10,
   "metadata": {},
   "outputs": [
    {
     "data": {
      "text/html": [
       "<div>\n",
       "<style scoped>\n",
       "    .dataframe tbody tr th:only-of-type {\n",
       "        vertical-align: middle;\n",
       "    }\n",
       "\n",
       "    .dataframe tbody tr th {\n",
       "        vertical-align: top;\n",
       "    }\n",
       "\n",
       "    .dataframe thead th {\n",
       "        text-align: right;\n",
       "    }\n",
       "</style>\n",
       "<table border=\"1\" class=\"dataframe\">\n",
       "  <thead>\n",
       "    <tr style=\"text-align: right;\">\n",
       "      <th></th>\n",
       "      <th>movie_id</th>\n",
       "      <th>averagerating</th>\n",
       "      <th>numvotes</th>\n",
       "      <th>movie_id</th>\n",
       "      <th>primary_title</th>\n",
       "      <th>original_title</th>\n",
       "      <th>start_year</th>\n",
       "      <th>runtime_minutes</th>\n",
       "      <th>genres</th>\n",
       "    </tr>\n",
       "  </thead>\n",
       "  <tbody>\n",
       "    <tr>\n",
       "      <th>0</th>\n",
       "      <td>tt10356526</td>\n",
       "      <td>8.3</td>\n",
       "      <td>31</td>\n",
       "      <td>tt10356526</td>\n",
       "      <td>Laiye Je Yaarian</td>\n",
       "      <td>Laiye Je Yaarian</td>\n",
       "      <td>2019</td>\n",
       "      <td>117.0</td>\n",
       "      <td>Romance</td>\n",
       "    </tr>\n",
       "    <tr>\n",
       "      <th>1</th>\n",
       "      <td>tt10384606</td>\n",
       "      <td>8.9</td>\n",
       "      <td>559</td>\n",
       "      <td>tt10384606</td>\n",
       "      <td>Borderless</td>\n",
       "      <td>Borderless</td>\n",
       "      <td>2019</td>\n",
       "      <td>87.0</td>\n",
       "      <td>Documentary</td>\n",
       "    </tr>\n",
       "    <tr>\n",
       "      <th>2</th>\n",
       "      <td>tt1042974</td>\n",
       "      <td>6.4</td>\n",
       "      <td>20</td>\n",
       "      <td>tt1042974</td>\n",
       "      <td>Just Inès</td>\n",
       "      <td>Just Inès</td>\n",
       "      <td>2010</td>\n",
       "      <td>90.0</td>\n",
       "      <td>Drama</td>\n",
       "    </tr>\n",
       "    <tr>\n",
       "      <th>3</th>\n",
       "      <td>tt1043726</td>\n",
       "      <td>4.2</td>\n",
       "      <td>50352</td>\n",
       "      <td>tt1043726</td>\n",
       "      <td>The Legend of Hercules</td>\n",
       "      <td>The Legend of Hercules</td>\n",
       "      <td>2014</td>\n",
       "      <td>99.0</td>\n",
       "      <td>Action,Adventure,Fantasy</td>\n",
       "    </tr>\n",
       "    <tr>\n",
       "      <th>4</th>\n",
       "      <td>tt1060240</td>\n",
       "      <td>6.5</td>\n",
       "      <td>21</td>\n",
       "      <td>tt1060240</td>\n",
       "      <td>Até Onde?</td>\n",
       "      <td>Até Onde?</td>\n",
       "      <td>2011</td>\n",
       "      <td>73.0</td>\n",
       "      <td>Mystery,Thriller</td>\n",
       "    </tr>\n",
       "  </tbody>\n",
       "</table>\n",
       "</div>"
      ],
      "text/plain": [
       "     movie_id  averagerating  numvotes    movie_id           primary_title  \\\n",
       "0  tt10356526            8.3        31  tt10356526        Laiye Je Yaarian   \n",
       "1  tt10384606            8.9       559  tt10384606              Borderless   \n",
       "2   tt1042974            6.4        20   tt1042974               Just Inès   \n",
       "3   tt1043726            4.2     50352   tt1043726  The Legend of Hercules   \n",
       "4   tt1060240            6.5        21   tt1060240               Até Onde?   \n",
       "\n",
       "           original_title  start_year  runtime_minutes  \\\n",
       "0        Laiye Je Yaarian        2019            117.0   \n",
       "1              Borderless        2019             87.0   \n",
       "2               Just Inès        2010             90.0   \n",
       "3  The Legend of Hercules        2014             99.0   \n",
       "4               Até Onde?        2011             73.0   \n",
       "\n",
       "                     genres  \n",
       "0                   Romance  \n",
       "1               Documentary  \n",
       "2                     Drama  \n",
       "3  Action,Adventure,Fantasy  \n",
       "4          Mystery,Thriller  "
      ]
     },
     "execution_count": 10,
     "metadata": {},
     "output_type": "execute_result"
    }
   ],
   "source": [
    "movie_data.head()"
   ]
  },
  {
   "cell_type": "code",
   "execution_count": 11,
   "metadata": {},
   "outputs": [
    {
     "data": {
      "text/plain": [
       "2016    8721\n",
       "2017    8713\n",
       "2015    8494\n",
       "2014    8371\n",
       "2013    7990\n",
       "2012    7680\n",
       "2018    7526\n",
       "2011    7389\n",
       "2010    6792\n",
       "2019    2180\n",
       "Name: start_year, dtype: int64"
      ]
     },
     "execution_count": 11,
     "metadata": {},
     "output_type": "execute_result"
    }
   ],
   "source": [
    "movie_data['start_year'].value_counts()"
   ]
  },
  {
   "cell_type": "code",
   "execution_count": 12,
   "metadata": {},
   "outputs": [
    {
     "data": {
      "text/plain": [
       "count    66236.000000\n",
       "mean        94.654040\n",
       "std        208.574111\n",
       "min          3.000000\n",
       "25%         81.000000\n",
       "50%         91.000000\n",
       "75%        104.000000\n",
       "max      51420.000000\n",
       "Name: runtime_minutes, dtype: float64"
      ]
     },
     "execution_count": 12,
     "metadata": {},
     "output_type": "execute_result"
    }
   ],
   "source": [
    "movie_data['runtime_minutes'].describe()"
   ]
  },
  {
   "cell_type": "code",
   "execution_count": 13,
   "metadata": {
    "scrolled": true
   },
   "outputs": [
    {
     "data": {
      "text/plain": [
       "count     73052\n",
       "unique      923\n",
       "top       Drama\n",
       "freq      11612\n",
       "Name: genres, dtype: object"
      ]
     },
     "execution_count": 13,
     "metadata": {},
     "output_type": "execute_result"
    }
   ],
   "source": [
    "movie_data['genres'].describe()"
   ]
  },
  {
   "cell_type": "markdown",
   "metadata": {},
   "source": [
    "<b>DATA PREPARATION<b>"
   ]
  },
  {
   "cell_type": "markdown",
   "metadata": {},
   "source": [
    "Both data sets are cleaned for maximun optimization. This include dropping unnecessary rows, adding new columns and edditing values within columns "
   ]
  },
  {
   "cell_type": "code",
   "execution_count": 14,
   "metadata": {},
   "outputs": [],
   "source": [
    "# Changing the columns from string to integer\n",
    "\n",
    "movie_budget[\"domestic_gross\"]= movie_budget[\"domestic_gross\"].str.replace(\"$\",\"\")\n",
    "movie_budget[\"domestic_gross\"]= movie_budget[\"domestic_gross\"].str.replace(\",\",\"\")\n",
    "movie_budget[\"domestic_gross\"]= movie_budget[\"domestic_gross\"].astype('int64', copy = False)\n",
    "\n",
    "movie_budget[\"worldwide_gross\"]= movie_budget[\"worldwide_gross\"].str.replace(\"$\",\"\")\n",
    "movie_budget[\"worldwide_gross\"]= movie_budget[\"worldwide_gross\"].str.replace(\",\",\"\")\n",
    "movie_budget[\"worldwide_gross\"]= movie_budget[\"worldwide_gross\"].astype('int64', copy = False)\n",
    "\n",
    "movie_budget[\"production_budget\"]= movie_budget[\"production_budget\"].str.replace(\"$\",\"\")\n",
    "movie_budget[\"production_budget\"]= movie_budget[\"production_budget\"].str.replace(\",\",\"\")\n",
    "movie_budget[\"production_budget\"]= movie_budget[\"production_budget\"].astype('int64', copy = False)"
   ]
  },
  {
   "cell_type": "code",
   "execution_count": 15,
   "metadata": {},
   "outputs": [
    {
     "name": "stderr",
     "output_type": "stream",
     "text": [
      "<ipython-input-15-ac56bf4162cf>:6: SettingWithCopyWarning: \n",
      "A value is trying to be set on a copy of a slice from a DataFrame.\n",
      "Try using .loc[row_indexer,col_indexer] = value instead\n",
      "\n",
      "See the caveats in the documentation: https://pandas.pydata.org/pandas-docs/stable/user_guide/indexing.html#returning-a-view-versus-a-copy\n",
      "  movie['genres'] = movie[\"genres\"].apply(lambda word: word.split(\",\")[0]);\n"
     ]
    }
   ],
   "source": [
    "# Dropping unneccessary records \n",
    "\n",
    "movie = movie_data.dropna()\n",
    "\n",
    "# Splitting grouped genres\n",
    "movie['genres'] = movie[\"genres\"].apply(lambda word: word.split(\",\")[0]);"
   ]
  },
  {
   "cell_type": "code",
   "execution_count": 18,
   "metadata": {},
   "outputs": [],
   "source": [
    "# Adding new columns\n",
    "\n",
    "movie_budget[\"foreign_gross\"] = movie_budget[\"worldwide_gross\"]  - movie_budget[\"domestic_gross\"]\n",
    "\n",
    "movie_budget[\"domestic_profit\"] = movie_budget[\"domestic_gross\"] - movie_budget[\"production_budget\"]\n",
    "movie_budget[\"foreign_profit\"] = movie_budget[\"foreign_gross\"] - movie_budget[\"production_budget\"]\n",
    "movie_budget[\"worldwide_profit\"] = movie_budget[\"worldwide_gross\"] - movie_budget[\"production_budget\"]\n",
    "\n",
    "movie_budget['domestic_profit_percentages'] = movie_budget['production_budget']/movie_budget['domestic_profit']\n",
    "movie_budget['foreign_profit_percentages'] = movie_budget['production_budget']/movie_budget['foreign_profit']\n",
    "movie_budget['worldwide_profit_percentages'] = movie_budget['production_budget']/movie_budget['worldwide_profit']\n"
   ]
  },
  {
   "cell_type": "markdown",
   "metadata": {},
   "source": [
    "<b>DATA ANALYSIS<b>"
   ]
  },
  {
   "cell_type": "code",
   "execution_count": 36,
   "metadata": {},
   "outputs": [],
   "source": [
    "import seaborn as sns\n",
    "import matplotlib.pyplot as plt\n",
    "\n",
    "%matplotlib inline"
   ]
  },
  {
   "cell_type": "markdown",
   "metadata": {},
   "source": [
    "<B>AVERAGE PROFIT PERCEBTAGE FOR ALL MOVIES<B>"
   ]
  },
  {
   "cell_type": "markdown",
   "metadata": {},
   "source": [
    "Movies with a small production budget have higher average percentage mean"
   ]
  },
  {
   "cell_type": "code",
   "execution_count": 26,
   "metadata": {},
   "outputs": [],
   "source": [
    "# Defining production budget sizes and separating categories\n",
    "\n",
    "def m_categories(budget):\n",
    "    if budget <= 5000000:\n",
    "        return 'small'\n",
    "    elif budget > 5000000 and budget < 17000000:\n",
    "        return 'medium'\n",
    "    else:\n",
    "        return 'large'\n",
    "    \n",
    "movie_budget['budget_size'] = movie_budget['production_budget'].map(m_categories)\n"
   ]
  },
  {
   "cell_type": "code",
   "execution_count": 24,
   "metadata": {},
   "outputs": [],
   "source": [
    "\n",
    "dc = movie_budget.groupby('budget_size')\n",
    "\n",
    "small_films = dc.get_group('small')\n",
    "med_films = dc.get_group('medium')\n",
    "lg_films = dc.get_group('large')"
   ]
  },
  {
   "cell_type": "code",
   "execution_count": 30,
   "metadata": {},
   "outputs": [],
   "source": [
    "def m_classify(profit):\n",
    "    if profit <= 0:\n",
    "        return 'loser'\n",
    "    elif profit > 0 and profit < .5:\n",
    "        return 'scraper'\n",
    "    else:\n",
    "        return 'winner'\n",
    "\n",
    "movie_budget['winners & losers'] = movie_budget['worldwide_profit_percentages'].map(m_classify)"
   ]
  },
  {
   "cell_type": "code",
   "execution_count": 31,
   "metadata": {},
   "outputs": [],
   "source": [
    "ec = movie_budget.groupby('winners & losers')\n",
    "\n",
    "wins = ec.get_group('winner')\n",
    "loses = ec.get_group('loser')\n",
    "scrapes = ec.get_group('scraper')"
   ]
  },
  {
   "cell_type": "code",
   "execution_count": 33,
   "metadata": {},
   "outputs": [],
   "source": [
    "fc = wins.groupby('budget_size')\n",
    "\n",
    "gc = loses.groupby('budget_size')\n"
   ]
  },
  {
   "cell_type": "code",
   "execution_count": 34,
   "metadata": {},
   "outputs": [
    {
     "data": {
      "text/html": [
       "<div>\n",
       "<style scoped>\n",
       "    .dataframe tbody tr th:only-of-type {\n",
       "        vertical-align: middle;\n",
       "    }\n",
       "\n",
       "    .dataframe tbody tr th {\n",
       "        vertical-align: top;\n",
       "    }\n",
       "\n",
       "    .dataframe thead th {\n",
       "        text-align: right;\n",
       "    }\n",
       "</style>\n",
       "<table border=\"1\" class=\"dataframe\">\n",
       "  <thead>\n",
       "    <tr style=\"text-align: right;\">\n",
       "      <th></th>\n",
       "      <th>film_sizes</th>\n",
       "      <th>percentage_means</th>\n",
       "    </tr>\n",
       "  </thead>\n",
       "  <tbody>\n",
       "    <tr>\n",
       "      <th>0</th>\n",
       "      <td>small</td>\n",
       "      <td>1.769723</td>\n",
       "    </tr>\n",
       "    <tr>\n",
       "      <th>1</th>\n",
       "      <td>medium</td>\n",
       "      <td>0.120114</td>\n",
       "    </tr>\n",
       "    <tr>\n",
       "      <th>2</th>\n",
       "      <td>large</td>\n",
       "      <td>0.700102</td>\n",
       "    </tr>\n",
       "  </tbody>\n",
       "</table>\n",
       "</div>"
      ],
      "text/plain": [
       "  film_sizes  percentage_means\n",
       "0      small          1.769723\n",
       "1     medium          0.120114\n",
       "2      large          0.700102"
      ]
     },
     "execution_count": 34,
     "metadata": {},
     "output_type": "execute_result"
    }
   ],
   "source": [
    "# Upon getting the means using the .describe()\n",
    "\n",
    "data = {'film_sizes': ['small', 'medium', 'large'],\n",
    "        'percentage_means': [1.769723, 0.120114, 0.700102]}\n",
    "film_comp = pd.DataFrame(data)\n",
    "film_comp"
   ]
  },
  {
   "cell_type": "code",
   "execution_count": 48,
   "metadata": {},
   "outputs": [
    {
     "data": {
      "image/png": "[encoded data removed]",
      "text/plain": [
       "<Figure size 864x576 with 1 Axes>"
      ]
     },
     "metadata": {
      "needs_background": "light"
     },
     "output_type": "display_data"
    }
   ],
   "source": [
    "# Creating a bar plot\n",
    "\n",
    "fig, ax = plt.subplots(figsize = (12, 8))\n",
    " \n",
    "ax.bar(film_comp['film_sizes'], film_comp['percentage_means'], color=['forestgreen', 'darkseagreen', 'darkseagreen'])\n",
    " \n",
    "ax.set_xlabel(\"Movie Budget\")\n",
    "ax.set_ylabel(\"Profit Percentage\")\n",
    "ax.set_title(\"Means of Profit Percentges for All Movies\")\n",
    "plt.show()"
   ]
  },
  {
   "cell_type": "markdown",
   "metadata": {},
   "source": [
    "**ADD ANALYSIS\n",
    "\n",
    "  **BASED ON \n",
    "  \n",
    "  **RECOMMENDATION 2\n",
    "  \n",
    "  **UP HERE"
   ]
  },
  {
   "cell_type": "markdown",
   "metadata": {},
   "source": [
    "<b>GENRES AND RATING<b>"
   ]
  },
  {
   "cell_type": "markdown",
   "metadata": {},
   "source": [
    "Most movies produced are Drama, Comedy, Documentary, Action and Horror genres. Documentary, Drama and Comedy genres are among the most rated genres of the top five genres."
   ]
  },
  {
   "cell_type": "code",
   "execution_count": 51,
   "metadata": {},
   "outputs": [
    {
     "data": {
      "image/png": "[encoded data removed]",
      "text/plain": [
       "<Figure size 720x360 with 1 Axes>"
      ]
     },
     "metadata": {
      "needs_background": "light"
     },
     "output_type": "display_data"
    }
   ],
   "source": [
    "# Create a plot showing the number of genres \n",
    "\n",
    "fig, ax = plt.subplots(figsize=(10,5))\n",
    "\n",
    "ax = movie[\"genres\"].value_counts(ascending= True).plot(kind = 'barh', \n",
    "    color = [\"green\"] , grid=False)\n",
    "\n",
    "plt.grid(False)\n",
    "ax.set_title(\"Top Five Genres\")\n",
    "ax.set(xlabel=\"Counts\" , ylabel=\"Genres\");"
   ]
  },
  {
   "cell_type": "markdown",
   "metadata": {},
   "source": [
    "<b>Now that we know the top five genres, let's look at these top 5 genres produced and deduce which of the genres has the highest rating</b>"
   ]
  },
  {
   "cell_type": "code",
   "execution_count": 58,
   "metadata": {},
   "outputs": [],
   "source": [
    "top_5 = [\"Drama\", \"Comedy\", \"Documentary\", \"Action\",\"Horror\"]\n",
    "mv_new = movie[movie.genres.isin(top_5)]"
   ]
  },
  {
   "cell_type": "code",
   "execution_count": 59,
   "metadata": {
    "scrolled": true
   },
   "outputs": [
    {
     "data": {
      "image/png": "[encoded data removed]",
      "text/plain": [
       "<Figure size 720x360 with 1 Axes>"
      ]
     },
     "metadata": {
      "needs_background": "light"
     },
     "output_type": "display_data"
    }
   ],
   "source": [
    "fig, ax = plt.subplots(figsize=(10,5))\n",
    "\n",
    "sns.set(style=\"whitegrid\", color_codes=True)\n",
    "order= [\"Documentary\", \"Drama\", \"Comedy\", \"Action\", 'Horror']\n",
    "\n",
    "sns.barplot(data=mv_new, x=\"averagerating\", y=\"genres\", \n",
    "              order = order, color = \"green\")\n",
    "\n",
    "plt.grid(False)\n",
    "ax.set(xlabel=\"Average Rating\", ylabel=\"Genres\")\n",
    "ax.set_title(\"Frequently Made Genres and Their Ratings\"); "
   ]
  },
  {
   "cell_type": "code",
   "execution_count": null,
   "metadata": {},
   "outputs": [],
   "source": []
  },
  {
   "cell_type": "markdown",
   "metadata": {},
   "source": [
    "<b>MOVIE RUNTIME<b>"
   ]
  },
  {
   "cell_type": "markdown",
   "metadata": {},
   "source": [
    "Short movies (movies with rutime of 56 minutes and lower) have higher rating than longer movies"
   ]
  },
  {
   "cell_type": "code",
   "execution_count": 67,
   "metadata": {},
   "outputs": [
    {
     "data": {
      "image/png": "[encoded data removed]",
      "text/plain": [
       "<Figure size 720x360 with 1 Axes>"
      ]
     },
     "metadata": {},
     "output_type": "display_data"
    }
   ],
   "source": [
    "# Create a plot\n",
    "\n",
    "fig, ax = plt.subplots(figsize=(10,5))\n",
    "g = sns.lineplot(data=movie, color = \"green\", x='runtime_minutes', y='averagerating')\n",
    "\n",
    "ax.set_title(\"Movie Runtime and Their Rating\")\n",
    "ax.set(xlabel=\"Runtime in Minutes\", ylabel=\"Average Rating\");"
   ]
  },
  {
   "cell_type": "code",
   "execution_count": 69,
   "metadata": {},
   "outputs": [
    {
     "data": {
      "image/png": "[encoded data removed]",
      "text/plain": [
       "<Figure size 720x360 with 1 Axes>"
      ]
     },
     "metadata": {},
     "output_type": "display_data"
    }
   ],
   "source": [
    "# Defining area of interest\n",
    "\n",
    "interest = movie[(movie[\"runtime_minutes\"] >=50.0) & (movie[\"runtime_minutes\"] <=150.0)]\n",
    "\n",
    "# Plotting area of interest\n",
    "\n",
    "fig, ax = plt.subplots(figsize=(10,5))\n",
    "g = sns.lineplot(data=interest, color = \"green\", x=interest['runtime_minutes'], y=interest['averagerating'])\n",
    "g.axvline(x = 56, color = \"black\")\n",
    "ax.set_title(\"Movie Runtime and Their Rating\")\n",
    "ax.set(xlabel=\"Runtime in Minutes\", ylabel=\"Average Rating\");"
   ]
  },
  {
   "cell_type": "markdown",
   "metadata": {},
   "source": [
    "<b> Here, it seems movies with runtime at 56 minutes and lower have higher ratings than movies with longer runtime so we test this hypothesis against the population\n",
    "\n",
    "Ho: Movies that have runtime less than 56 minutes do not have higher average rating\n",
    "Ha: Movies that have runtime less than 56 minutes have higher average rating\n",
    "\n",
    "<b>"
   ]
  },
  {
   "cell_type": "code",
   "execution_count": 71,
   "metadata": {},
   "outputs": [
    {
     "data": {
      "text/html": [
       "<div>\n",
       "<style scoped>\n",
       "    .dataframe tbody tr th:only-of-type {\n",
       "        vertical-align: middle;\n",
       "    }\n",
       "\n",
       "    .dataframe tbody tr th {\n",
       "        vertical-align: top;\n",
       "    }\n",
       "\n",
       "    .dataframe thead th {\n",
       "        text-align: right;\n",
       "    }\n",
       "</style>\n",
       "<table border=\"1\" class=\"dataframe\">\n",
       "  <thead>\n",
       "    <tr style=\"text-align: right;\">\n",
       "      <th></th>\n",
       "      <th>averagerating</th>\n",
       "      <th>numvotes</th>\n",
       "      <th>start_year</th>\n",
       "      <th>runtime_minutes</th>\n",
       "    </tr>\n",
       "  </thead>\n",
       "  <tbody>\n",
       "    <tr>\n",
       "      <th>count</th>\n",
       "      <td>65720.000000</td>\n",
       "      <td>6.572000e+04</td>\n",
       "      <td>65720.000000</td>\n",
       "      <td>65720.000000</td>\n",
       "    </tr>\n",
       "    <tr>\n",
       "      <th>mean</th>\n",
       "      <td>6.320902</td>\n",
       "      <td>3.954674e+03</td>\n",
       "      <td>2014.258065</td>\n",
       "      <td>94.732273</td>\n",
       "    </tr>\n",
       "    <tr>\n",
       "      <th>std</th>\n",
       "      <td>1.458878</td>\n",
       "      <td>3.208823e+04</td>\n",
       "      <td>2.600143</td>\n",
       "      <td>209.377017</td>\n",
       "    </tr>\n",
       "    <tr>\n",
       "      <th>min</th>\n",
       "      <td>1.000000</td>\n",
       "      <td>5.000000e+00</td>\n",
       "      <td>2010.000000</td>\n",
       "      <td>3.000000</td>\n",
       "    </tr>\n",
       "    <tr>\n",
       "      <th>25%</th>\n",
       "      <td>5.500000</td>\n",
       "      <td>1.600000e+01</td>\n",
       "      <td>2012.000000</td>\n",
       "      <td>81.000000</td>\n",
       "    </tr>\n",
       "    <tr>\n",
       "      <th>50%</th>\n",
       "      <td>6.500000</td>\n",
       "      <td>6.200000e+01</td>\n",
       "      <td>2014.000000</td>\n",
       "      <td>91.000000</td>\n",
       "    </tr>\n",
       "    <tr>\n",
       "      <th>75%</th>\n",
       "      <td>7.300000</td>\n",
       "      <td>3.520000e+02</td>\n",
       "      <td>2016.000000</td>\n",
       "      <td>104.000000</td>\n",
       "    </tr>\n",
       "    <tr>\n",
       "      <th>max</th>\n",
       "      <td>10.000000</td>\n",
       "      <td>1.841066e+06</td>\n",
       "      <td>2019.000000</td>\n",
       "      <td>51420.000000</td>\n",
       "    </tr>\n",
       "  </tbody>\n",
       "</table>\n",
       "</div>"
      ],
      "text/plain": [
       "       averagerating      numvotes    start_year  runtime_minutes\n",
       "count   65720.000000  6.572000e+04  65720.000000     65720.000000\n",
       "mean        6.320902  3.954674e+03   2014.258065        94.732273\n",
       "std         1.458878  3.208823e+04      2.600143       209.377017\n",
       "min         1.000000  5.000000e+00   2010.000000         3.000000\n",
       "25%         5.500000  1.600000e+01   2012.000000        81.000000\n",
       "50%         6.500000  6.200000e+01   2014.000000        91.000000\n",
       "75%         7.300000  3.520000e+02   2016.000000       104.000000\n",
       "max        10.000000  1.841066e+06   2019.000000     51420.000000"
      ]
     },
     "execution_count": 71,
     "metadata": {},
     "output_type": "execute_result"
    }
   ],
   "source": [
    "# Movie dataframe equals population data\n",
    "\n",
    "movie.describe()"
   ]
  },
  {
   "cell_type": "code",
   "execution_count": 72,
   "metadata": {},
   "outputs": [
    {
     "data": {
      "text/html": [
       "<div>\n",
       "<style scoped>\n",
       "    .dataframe tbody tr th:only-of-type {\n",
       "        vertical-align: middle;\n",
       "    }\n",
       "\n",
       "    .dataframe tbody tr th {\n",
       "        vertical-align: top;\n",
       "    }\n",
       "\n",
       "    .dataframe thead th {\n",
       "        text-align: right;\n",
       "    }\n",
       "</style>\n",
       "<table border=\"1\" class=\"dataframe\">\n",
       "  <thead>\n",
       "    <tr style=\"text-align: right;\">\n",
       "      <th></th>\n",
       "      <th>averagerating</th>\n",
       "      <th>numvotes</th>\n",
       "      <th>start_year</th>\n",
       "      <th>runtime_minutes</th>\n",
       "    </tr>\n",
       "  </thead>\n",
       "  <tbody>\n",
       "    <tr>\n",
       "      <th>count</th>\n",
       "      <td>3036.000000</td>\n",
       "      <td>3036.000000</td>\n",
       "      <td>3036.000000</td>\n",
       "      <td>3036.000000</td>\n",
       "    </tr>\n",
       "    <tr>\n",
       "      <th>mean</th>\n",
       "      <td>7.144730</td>\n",
       "      <td>58.434124</td>\n",
       "      <td>2013.805007</td>\n",
       "      <td>47.829051</td>\n",
       "    </tr>\n",
       "    <tr>\n",
       "      <th>std</th>\n",
       "      <td>1.427123</td>\n",
       "      <td>546.470661</td>\n",
       "      <td>2.514968</td>\n",
       "      <td>9.537272</td>\n",
       "    </tr>\n",
       "    <tr>\n",
       "      <th>min</th>\n",
       "      <td>1.000000</td>\n",
       "      <td>5.000000</td>\n",
       "      <td>2010.000000</td>\n",
       "      <td>3.000000</td>\n",
       "    </tr>\n",
       "    <tr>\n",
       "      <th>25%</th>\n",
       "      <td>6.500000</td>\n",
       "      <td>7.000000</td>\n",
       "      <td>2012.000000</td>\n",
       "      <td>46.000000</td>\n",
       "    </tr>\n",
       "    <tr>\n",
       "      <th>50%</th>\n",
       "      <td>7.300000</td>\n",
       "      <td>12.000000</td>\n",
       "      <td>2014.000000</td>\n",
       "      <td>51.000000</td>\n",
       "    </tr>\n",
       "    <tr>\n",
       "      <th>75%</th>\n",
       "      <td>8.200000</td>\n",
       "      <td>26.000000</td>\n",
       "      <td>2016.000000</td>\n",
       "      <td>53.000000</td>\n",
       "    </tr>\n",
       "    <tr>\n",
       "      <th>max</th>\n",
       "      <td>10.000000</td>\n",
       "      <td>25596.000000</td>\n",
       "      <td>2019.000000</td>\n",
       "      <td>56.000000</td>\n",
       "    </tr>\n",
       "  </tbody>\n",
       "</table>\n",
       "</div>"
      ],
      "text/plain": [
       "       averagerating      numvotes   start_year  runtime_minutes\n",
       "count    3036.000000   3036.000000  3036.000000      3036.000000\n",
       "mean        7.144730     58.434124  2013.805007        47.829051\n",
       "std         1.427123    546.470661     2.514968         9.537272\n",
       "min         1.000000      5.000000  2010.000000         3.000000\n",
       "25%         6.500000      7.000000  2012.000000        46.000000\n",
       "50%         7.300000     12.000000  2014.000000        51.000000\n",
       "75%         8.200000     26.000000  2016.000000        53.000000\n",
       "max        10.000000  25596.000000  2019.000000        56.000000"
      ]
     },
     "execution_count": 72,
     "metadata": {},
     "output_type": "execute_result"
    }
   ],
   "source": [
    "# Creating the sample from the population\n",
    "\n",
    "sample= movie[(movie[\"runtime_minutes\"] >=0) & (movie[\"runtime_minutes\"] <=56.0)]\n",
    "\n",
    "# Stat summary of sample\n",
    "\n",
    "sample.describe()"
   ]
  },
  {
   "cell_type": "markdown",
   "metadata": {},
   "source": [
    "<b> Where average rating = population mean of 6.32\n",
    "    \n",
    "    Ho: MUo <= 6.32\n",
    "    Ha: MUo > 6.32\n",
    "\n",
    "This is a one-tailed Z test because we know the sample size is more than 30, and we know the population standard deviation.\n",
    "<b>"
   ]
  },
  {
   "cell_type": "code",
   "execution_count": 76,
   "metadata": {},
   "outputs": [
    {
     "data": {
      "text/plain": [
       "1.4147365585113178e-210"
      ]
     },
     "execution_count": 76,
     "metadata": {},
     "output_type": "execute_result"
    }
   ],
   "source": [
    "import numpy as np\n",
    "import scipy.stats as stats\n",
    "\n",
    "x_bar = 7.14 #Sample mean\n",
    "MU = 6.32 #Population mean\n",
    "n = 3036 #Sample size\n",
    "sigma = 1.46 #Population SD\n",
    "alpha = 0.05 \n",
    "\n",
    "# Calculating the z-statistic and the p-value\n",
    "\n",
    "z = (x_bar - MU)/(sigma/np.sqrt(n))\n",
    "p_value = stats.norm.sf(z)\n",
    "p_value"
   ]
  },
  {
   "cell_type": "markdown",
   "metadata": {},
   "source": [
    "<b> The p_value is less than alpha of 0.05, this means we reject the null hypothesis. The movies with runtime less tham 56 minutes have significantly higher rating. <b>"
   ]
  },
  {
   "cell_type": "markdown",
   "metadata": {},
   "source": [
    "<b> CONCLUSION <b>"
   ]
  },
  {
   "cell_type": "markdown",
   "metadata": {},
   "source": [
    "This analysis leads to four recommedations for Computing Vision original video content creation endeavour"
   ]
  },
  {
   "cell_type": "markdown",
   "metadata": {},
   "source": [
    "- Invest in movies that cost lower than 5 million for budget optimization\n",
    "- Launch their movie domestically, before expanding to foreign markets \n",
    "- Focus on documentary, drama, and comedy genres because they are the frequently made genres with the most ratings\n",
    "- Make short movies because they are rated favorably than longer movies"
   ]
  },
  {
   "cell_type": "markdown",
   "metadata": {},
   "source": [
    "<b> NEXT STEPS<B>"
   ]
  },
  {
   "cell_type": "markdown",
   "metadata": {},
   "source": [
    "Further analysis could yield insights on\n",
    "\n",
    "- How much money should be spent per genre cause the most amount of money\n",
    "- What kind of genres have the highest screentime\n",
    "- How muchtime it takes to produce movies based on genres"
   ]
  }
 ],
 "metadata": {
  "kernelspec": {
   "display_name": "Python (learn-env)",
   "language": "python",
   "name": "learn-env"
  },
  "language_info": {
   "codemirror_mode": {
    "name": "ipython",
    "version": 3
   },
   "file_extension": ".py",
   "mimetype": "text/x-python",
   "name": "python",
   "nbconvert_exporter": "python",
   "pygments_lexer": "ipython3",
   "version": "3.8.5"
  }
 },
 "nbformat": 4,
 "nbformat_minor": 4
}

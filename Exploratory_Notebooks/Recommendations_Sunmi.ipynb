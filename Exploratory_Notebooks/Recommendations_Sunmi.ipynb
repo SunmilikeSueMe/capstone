{
 "cells": [
  {
   "cell_type": "code",
   "execution_count": 2,
   "metadata": {},
   "outputs": [],
   "source": [
    "import seaborn as sns\n",
    "import numpy as np\n",
    "import pandas as pd\n",
    "import sqlite3\n",
    "import matplotlib.pyplot as plt\n",
    "%matplotlib inline\n"
   ]
  },
  {
   "cell_type": "code",
   "execution_count": 3,
   "metadata": {
    "scrolled": true
   },
   "outputs": [
    {
     "data": {
      "text/html": [
       "<div>\n",
       "<style scoped>\n",
       "    .dataframe tbody tr th:only-of-type {\n",
       "        vertical-align: middle;\n",
       "    }\n",
       "\n",
       "    .dataframe tbody tr th {\n",
       "        vertical-align: top;\n",
       "    }\n",
       "\n",
       "    .dataframe thead th {\n",
       "        text-align: right;\n",
       "    }\n",
       "</style>\n",
       "<table border=\"1\" class=\"dataframe\">\n",
       "  <thead>\n",
       "    <tr style=\"text-align: right;\">\n",
       "      <th></th>\n",
       "      <th>person_id</th>\n",
       "      <th>primary_name</th>\n",
       "      <th>birth_year</th>\n",
       "      <th>death_year</th>\n",
       "      <th>primary_profession</th>\n",
       "    </tr>\n",
       "  </thead>\n",
       "  <tbody>\n",
       "    <tr>\n",
       "      <th>0</th>\n",
       "      <td>nm0061671</td>\n",
       "      <td>Mary Ellen Bauder</td>\n",
       "      <td>NaN</td>\n",
       "      <td>NaN</td>\n",
       "      <td>miscellaneous,production_manager,producer</td>\n",
       "    </tr>\n",
       "    <tr>\n",
       "      <th>1</th>\n",
       "      <td>nm0061865</td>\n",
       "      <td>Joseph Bauer</td>\n",
       "      <td>NaN</td>\n",
       "      <td>NaN</td>\n",
       "      <td>composer,music_department,sound_department</td>\n",
       "    </tr>\n",
       "    <tr>\n",
       "      <th>2</th>\n",
       "      <td>nm0062070</td>\n",
       "      <td>Bruce Baum</td>\n",
       "      <td>NaN</td>\n",
       "      <td>NaN</td>\n",
       "      <td>miscellaneous,actor,writer</td>\n",
       "    </tr>\n",
       "    <tr>\n",
       "      <th>3</th>\n",
       "      <td>nm0062195</td>\n",
       "      <td>Axel Baumann</td>\n",
       "      <td>NaN</td>\n",
       "      <td>NaN</td>\n",
       "      <td>camera_department,cinematographer,art_department</td>\n",
       "    </tr>\n",
       "    <tr>\n",
       "      <th>4</th>\n",
       "      <td>nm0062798</td>\n",
       "      <td>Pete Baxter</td>\n",
       "      <td>NaN</td>\n",
       "      <td>NaN</td>\n",
       "      <td>production_designer,art_department,set_decorator</td>\n",
       "    </tr>\n",
       "  </tbody>\n",
       "</table>\n",
       "</div>"
      ],
      "text/plain": [
       "   person_id       primary_name  birth_year  death_year  \\\n",
       "0  nm0061671  Mary Ellen Bauder         NaN         NaN   \n",
       "1  nm0061865       Joseph Bauer         NaN         NaN   \n",
       "2  nm0062070         Bruce Baum         NaN         NaN   \n",
       "3  nm0062195       Axel Baumann         NaN         NaN   \n",
       "4  nm0062798        Pete Baxter         NaN         NaN   \n",
       "\n",
       "                                 primary_profession  \n",
       "0         miscellaneous,production_manager,producer  \n",
       "1        composer,music_department,sound_department  \n",
       "2                        miscellaneous,actor,writer  \n",
       "3  camera_department,cinematographer,art_department  \n",
       "4  production_designer,art_department,set_decorator  "
      ]
     },
     "execution_count": 3,
     "metadata": {},
     "output_type": "execute_result"
    }
   ],
   "source": [
    "from zipfile import ZipFile\n",
    "  \n",
    "\n",
    "with ZipFile(\"Datasets/im.db.zip\", 'r') as zObject:\n",
    "    zObject.extractall(\n",
    "        path=\"IMDB/\")\n",
    "\n",
    "conn = sqlite3.connect(\"IMDB/im.db\")\n",
    "cur = conn.cursor()\n",
    "imdb= pd.read_sql('''\n",
    "    SELECT * \n",
    "    FROM persons;\n",
    "\n",
    "''', conn)\n",
    "imdb.head()"
   ]
  },
  {
   "cell_type": "code",
   "execution_count": 4,
   "metadata": {},
   "outputs": [
    {
     "data": {
      "text/html": [
       "<div>\n",
       "<style scoped>\n",
       "    .dataframe tbody tr th:only-of-type {\n",
       "        vertical-align: middle;\n",
       "    }\n",
       "\n",
       "    .dataframe tbody tr th {\n",
       "        vertical-align: top;\n",
       "    }\n",
       "\n",
       "    .dataframe thead th {\n",
       "        text-align: right;\n",
       "    }\n",
       "</style>\n",
       "<table border=\"1\" class=\"dataframe\">\n",
       "  <thead>\n",
       "    <tr style=\"text-align: right;\">\n",
       "      <th></th>\n",
       "      <th>movie_id</th>\n",
       "      <th>primary_title</th>\n",
       "      <th>original_title</th>\n",
       "      <th>start_year</th>\n",
       "      <th>runtime_minutes</th>\n",
       "      <th>genres</th>\n",
       "    </tr>\n",
       "  </thead>\n",
       "  <tbody>\n",
       "    <tr>\n",
       "      <th>0</th>\n",
       "      <td>tt0069049</td>\n",
       "      <td>The Other Side of the Wind</td>\n",
       "      <td>The Other Side of the Wind</td>\n",
       "      <td>2018</td>\n",
       "      <td>122.0</td>\n",
       "      <td>Drama</td>\n",
       "    </tr>\n",
       "    <tr>\n",
       "      <th>1</th>\n",
       "      <td>tt0146592</td>\n",
       "      <td>Pál Adrienn</td>\n",
       "      <td>Pál Adrienn</td>\n",
       "      <td>2010</td>\n",
       "      <td>136.0</td>\n",
       "      <td>Drama</td>\n",
       "    </tr>\n",
       "    <tr>\n",
       "      <th>2</th>\n",
       "      <td>tt0162942</td>\n",
       "      <td>Children of the Green Dragon</td>\n",
       "      <td>A zöld sárkány gyermekei</td>\n",
       "      <td>2010</td>\n",
       "      <td>89.0</td>\n",
       "      <td>Drama</td>\n",
       "    </tr>\n",
       "    <tr>\n",
       "      <th>3</th>\n",
       "      <td>tt0192528</td>\n",
       "      <td>Heaven &amp; Hell</td>\n",
       "      <td>Reverse Heaven</td>\n",
       "      <td>2018</td>\n",
       "      <td>104.0</td>\n",
       "      <td>Drama</td>\n",
       "    </tr>\n",
       "    <tr>\n",
       "      <th>4</th>\n",
       "      <td>tt0230212</td>\n",
       "      <td>The Final Journey</td>\n",
       "      <td>The Final Journey</td>\n",
       "      <td>2010</td>\n",
       "      <td>120.0</td>\n",
       "      <td>Drama</td>\n",
       "    </tr>\n",
       "    <tr>\n",
       "      <th>5</th>\n",
       "      <td>tt0263814</td>\n",
       "      <td>On kadin</td>\n",
       "      <td>On kadin</td>\n",
       "      <td>2019</td>\n",
       "      <td>NaN</td>\n",
       "      <td>Drama</td>\n",
       "    </tr>\n",
       "    <tr>\n",
       "      <th>6</th>\n",
       "      <td>tt0357717</td>\n",
       "      <td>Haar Jeet</td>\n",
       "      <td>Haar Jeet</td>\n",
       "      <td>2018</td>\n",
       "      <td>NaN</td>\n",
       "      <td>Drama</td>\n",
       "    </tr>\n",
       "    <tr>\n",
       "      <th>7</th>\n",
       "      <td>tt0381957</td>\n",
       "      <td>Cloud Cuckoo Land</td>\n",
       "      <td>Cloud Cuckoo Land</td>\n",
       "      <td>2012</td>\n",
       "      <td>92.0</td>\n",
       "      <td>Drama</td>\n",
       "    </tr>\n",
       "    <tr>\n",
       "      <th>8</th>\n",
       "      <td>tt0396123</td>\n",
       "      <td>Den milde smerte</td>\n",
       "      <td>Den milde smerte</td>\n",
       "      <td>2010</td>\n",
       "      <td>280.0</td>\n",
       "      <td>Drama</td>\n",
       "    </tr>\n",
       "    <tr>\n",
       "      <th>9</th>\n",
       "      <td>tt0402887</td>\n",
       "      <td>Capture the Flag</td>\n",
       "      <td>Capture the Flag</td>\n",
       "      <td>2010</td>\n",
       "      <td>NaN</td>\n",
       "      <td>Drama</td>\n",
       "    </tr>\n",
       "  </tbody>\n",
       "</table>\n",
       "</div>"
      ],
      "text/plain": [
       "    movie_id                 primary_title              original_title  \\\n",
       "0  tt0069049    The Other Side of the Wind  The Other Side of the Wind   \n",
       "1  tt0146592                   Pál Adrienn                 Pál Adrienn   \n",
       "2  tt0162942  Children of the Green Dragon    A zöld sárkány gyermekei   \n",
       "3  tt0192528                 Heaven & Hell              Reverse Heaven   \n",
       "4  tt0230212             The Final Journey           The Final Journey   \n",
       "5  tt0263814                      On kadin                    On kadin   \n",
       "6  tt0357717                     Haar Jeet                   Haar Jeet   \n",
       "7  tt0381957             Cloud Cuckoo Land           Cloud Cuckoo Land   \n",
       "8  tt0396123              Den milde smerte            Den milde smerte   \n",
       "9  tt0402887              Capture the Flag            Capture the Flag   \n",
       "\n",
       "   start_year  runtime_minutes genres  \n",
       "0        2018            122.0  Drama  \n",
       "1        2010            136.0  Drama  \n",
       "2        2010             89.0  Drama  \n",
       "3        2018            104.0  Drama  \n",
       "4        2010            120.0  Drama  \n",
       "5        2019              NaN  Drama  \n",
       "6        2018              NaN  Drama  \n",
       "7        2012             92.0  Drama  \n",
       "8        2010            280.0  Drama  \n",
       "9        2010              NaN  Drama  "
      ]
     },
     "execution_count": 4,
     "metadata": {},
     "output_type": "execute_result"
    }
   ],
   "source": [
    "pd.read_sql(\"\"\"\n",
    "SELECT *\n",
    "  FROM movie_basics\n",
    "  WHERE genres = \"Drama\"\n",
    " LIMIT 10\n",
    "\"\"\", conn)"
   ]
  },
  {
   "cell_type": "code",
   "execution_count": 5,
   "metadata": {
    "scrolled": true
   },
   "outputs": [
    {
     "data": {
      "text/html": [
       "<div>\n",
       "<style scoped>\n",
       "    .dataframe tbody tr th:only-of-type {\n",
       "        vertical-align: middle;\n",
       "    }\n",
       "\n",
       "    .dataframe tbody tr th {\n",
       "        vertical-align: top;\n",
       "    }\n",
       "\n",
       "    .dataframe thead th {\n",
       "        text-align: right;\n",
       "    }\n",
       "</style>\n",
       "<table border=\"1\" class=\"dataframe\">\n",
       "  <thead>\n",
       "    <tr style=\"text-align: right;\">\n",
       "      <th></th>\n",
       "      <th>movie_id</th>\n",
       "      <th>averagerating</th>\n",
       "      <th>numvotes</th>\n",
       "      <th>movie_id</th>\n",
       "      <th>primary_title</th>\n",
       "      <th>original_title</th>\n",
       "      <th>start_year</th>\n",
       "      <th>runtime_minutes</th>\n",
       "      <th>genres</th>\n",
       "    </tr>\n",
       "  </thead>\n",
       "  <tbody>\n",
       "    <tr>\n",
       "      <th>0</th>\n",
       "      <td>tt10356526</td>\n",
       "      <td>8.3</td>\n",
       "      <td>31</td>\n",
       "      <td>tt10356526</td>\n",
       "      <td>Laiye Je Yaarian</td>\n",
       "      <td>Laiye Je Yaarian</td>\n",
       "      <td>2019</td>\n",
       "      <td>117.0</td>\n",
       "      <td>Romance</td>\n",
       "    </tr>\n",
       "    <tr>\n",
       "      <th>1</th>\n",
       "      <td>tt10384606</td>\n",
       "      <td>8.9</td>\n",
       "      <td>559</td>\n",
       "      <td>tt10384606</td>\n",
       "      <td>Borderless</td>\n",
       "      <td>Borderless</td>\n",
       "      <td>2019</td>\n",
       "      <td>87.0</td>\n",
       "      <td>Documentary</td>\n",
       "    </tr>\n",
       "    <tr>\n",
       "      <th>2</th>\n",
       "      <td>tt1042974</td>\n",
       "      <td>6.4</td>\n",
       "      <td>20</td>\n",
       "      <td>tt1042974</td>\n",
       "      <td>Just Inès</td>\n",
       "      <td>Just Inès</td>\n",
       "      <td>2010</td>\n",
       "      <td>90.0</td>\n",
       "      <td>Drama</td>\n",
       "    </tr>\n",
       "  </tbody>\n",
       "</table>\n",
       "</div>"
      ],
      "text/plain": [
       "     movie_id  averagerating  numvotes    movie_id     primary_title  \\\n",
       "0  tt10356526            8.3        31  tt10356526  Laiye Je Yaarian   \n",
       "1  tt10384606            8.9       559  tt10384606        Borderless   \n",
       "2   tt1042974            6.4        20   tt1042974         Just Inès   \n",
       "\n",
       "     original_title  start_year  runtime_minutes       genres  \n",
       "0  Laiye Je Yaarian        2019            117.0      Romance  \n",
       "1        Borderless        2019             87.0  Documentary  \n",
       "2         Just Inès        2010             90.0        Drama  "
      ]
     },
     "execution_count": 5,
     "metadata": {},
     "output_type": "execute_result"
    }
   ],
   "source": [
    "data =  \"\"\"\n",
    "SELECT *\n",
    "FROM movie_ratings AS \"mr\" \n",
    "LEFT JOIN movie_basics AS \"m\"\n",
    "    ON m.movie_ID=mr.movie_ID\n",
    "\n",
    "\"\"\"\n",
    "df = pd.read_sql(data, conn)\n",
    "df.head(3)"
   ]
  },
  {
   "cell_type": "code",
   "execution_count": 6,
   "metadata": {},
   "outputs": [
    {
     "data": {
      "text/plain": [
       "movie_id              0\n",
       "averagerating         0\n",
       "numvotes              0\n",
       "movie_id              0\n",
       "primary_title         0\n",
       "original_title        0\n",
       "start_year            0\n",
       "runtime_minutes    7620\n",
       "genres              804\n",
       "dtype: int64"
      ]
     },
     "execution_count": 6,
     "metadata": {},
     "output_type": "execute_result"
    }
   ],
   "source": [
    "df.isna().sum()"
   ]
  },
  {
   "cell_type": "markdown",
   "metadata": {},
   "source": [
    "**Recommendation: Runtime\n",
    "\n",
    "Make short films (movies that are 56 minutes, including the credits) because short films have higer ratings "
   ]
  },
  {
   "cell_type": "code",
   "execution_count": 15,
   "metadata": {},
   "outputs": [
    {
     "data": {
      "text/plain": [
       "movie_id           0\n",
       "averagerating      0\n",
       "numvotes           0\n",
       "movie_id           0\n",
       "primary_title      0\n",
       "original_title     0\n",
       "start_year         0\n",
       "runtime_minutes    0\n",
       "genres             0\n",
       "dtype: int64"
      ]
     },
     "execution_count": 15,
     "metadata": {},
     "output_type": "execute_result"
    }
   ],
   "source": [
    "dfP = df.dropna()\n",
    "dfP.isna().sum()"
   ]
  },
  {
   "cell_type": "code",
   "execution_count": 16,
   "metadata": {},
   "outputs": [
    {
     "data": {
      "text/html": [
       "<div>\n",
       "<style scoped>\n",
       "    .dataframe tbody tr th:only-of-type {\n",
       "        vertical-align: middle;\n",
       "    }\n",
       "\n",
       "    .dataframe tbody tr th {\n",
       "        vertical-align: top;\n",
       "    }\n",
       "\n",
       "    .dataframe thead th {\n",
       "        text-align: right;\n",
       "    }\n",
       "</style>\n",
       "<table border=\"1\" class=\"dataframe\">\n",
       "  <thead>\n",
       "    <tr style=\"text-align: right;\">\n",
       "      <th></th>\n",
       "      <th>averagerating</th>\n",
       "      <th>numvotes</th>\n",
       "      <th>start_year</th>\n",
       "      <th>runtime_minutes</th>\n",
       "    </tr>\n",
       "  </thead>\n",
       "  <tbody>\n",
       "    <tr>\n",
       "      <th>count</th>\n",
       "      <td>65720.000000</td>\n",
       "      <td>6.572000e+04</td>\n",
       "      <td>65720.000000</td>\n",
       "      <td>65720.000000</td>\n",
       "    </tr>\n",
       "    <tr>\n",
       "      <th>mean</th>\n",
       "      <td>6.320902</td>\n",
       "      <td>3.954674e+03</td>\n",
       "      <td>2014.258065</td>\n",
       "      <td>94.732273</td>\n",
       "    </tr>\n",
       "    <tr>\n",
       "      <th>std</th>\n",
       "      <td>1.458878</td>\n",
       "      <td>3.208823e+04</td>\n",
       "      <td>2.600143</td>\n",
       "      <td>209.377017</td>\n",
       "    </tr>\n",
       "    <tr>\n",
       "      <th>min</th>\n",
       "      <td>1.000000</td>\n",
       "      <td>5.000000e+00</td>\n",
       "      <td>2010.000000</td>\n",
       "      <td>3.000000</td>\n",
       "    </tr>\n",
       "    <tr>\n",
       "      <th>25%</th>\n",
       "      <td>5.500000</td>\n",
       "      <td>1.600000e+01</td>\n",
       "      <td>2012.000000</td>\n",
       "      <td>81.000000</td>\n",
       "    </tr>\n",
       "    <tr>\n",
       "      <th>50%</th>\n",
       "      <td>6.500000</td>\n",
       "      <td>6.200000e+01</td>\n",
       "      <td>2014.000000</td>\n",
       "      <td>91.000000</td>\n",
       "    </tr>\n",
       "    <tr>\n",
       "      <th>75%</th>\n",
       "      <td>7.300000</td>\n",
       "      <td>3.520000e+02</td>\n",
       "      <td>2016.000000</td>\n",
       "      <td>104.000000</td>\n",
       "    </tr>\n",
       "    <tr>\n",
       "      <th>max</th>\n",
       "      <td>10.000000</td>\n",
       "      <td>1.841066e+06</td>\n",
       "      <td>2019.000000</td>\n",
       "      <td>51420.000000</td>\n",
       "    </tr>\n",
       "  </tbody>\n",
       "</table>\n",
       "</div>"
      ],
      "text/plain": [
       "       averagerating      numvotes    start_year  runtime_minutes\n",
       "count   65720.000000  6.572000e+04  65720.000000     65720.000000\n",
       "mean        6.320902  3.954674e+03   2014.258065        94.732273\n",
       "std         1.458878  3.208823e+04      2.600143       209.377017\n",
       "min         1.000000  5.000000e+00   2010.000000         3.000000\n",
       "25%         5.500000  1.600000e+01   2012.000000        81.000000\n",
       "50%         6.500000  6.200000e+01   2014.000000        91.000000\n",
       "75%         7.300000  3.520000e+02   2016.000000       104.000000\n",
       "max        10.000000  1.841066e+06   2019.000000     51420.000000"
      ]
     },
     "execution_count": 16,
     "metadata": {},
     "output_type": "execute_result"
    }
   ],
   "source": [
    "dfP.describe()"
   ]
  },
  {
   "cell_type": "code",
   "execution_count": 17,
   "metadata": {},
   "outputs": [
    {
     "data": {
      "text/html": [
       "<div>\n",
       "<style scoped>\n",
       "    .dataframe tbody tr th:only-of-type {\n",
       "        vertical-align: middle;\n",
       "    }\n",
       "\n",
       "    .dataframe tbody tr th {\n",
       "        vertical-align: top;\n",
       "    }\n",
       "\n",
       "    .dataframe thead th {\n",
       "        text-align: right;\n",
       "    }\n",
       "</style>\n",
       "<table border=\"1\" class=\"dataframe\">\n",
       "  <thead>\n",
       "    <tr style=\"text-align: right;\">\n",
       "      <th></th>\n",
       "      <th>movie_id</th>\n",
       "      <th>averagerating</th>\n",
       "      <th>numvotes</th>\n",
       "      <th>movie_id</th>\n",
       "      <th>primary_title</th>\n",
       "      <th>original_title</th>\n",
       "      <th>start_year</th>\n",
       "      <th>runtime_minutes</th>\n",
       "      <th>genres</th>\n",
       "    </tr>\n",
       "  </thead>\n",
       "  <tbody>\n",
       "    <tr>\n",
       "      <th>62</th>\n",
       "      <td>tt1409015</td>\n",
       "      <td>8.2</td>\n",
       "      <td>40</td>\n",
       "      <td>tt1409015</td>\n",
       "      <td>Greenlit</td>\n",
       "      <td>Greenlit</td>\n",
       "      <td>2010</td>\n",
       "      <td>50.0</td>\n",
       "      <td>Documentary</td>\n",
       "    </tr>\n",
       "    <tr>\n",
       "      <th>154</th>\n",
       "      <td>tt1608345</td>\n",
       "      <td>8.4</td>\n",
       "      <td>34</td>\n",
       "      <td>tt1608345</td>\n",
       "      <td>Bastards of Utopia</td>\n",
       "      <td>Bastards of Utopia</td>\n",
       "      <td>2010</td>\n",
       "      <td>55.0</td>\n",
       "      <td>Documentary,Drama</td>\n",
       "    </tr>\n",
       "    <tr>\n",
       "      <th>230</th>\n",
       "      <td>tt1716746</td>\n",
       "      <td>7.7</td>\n",
       "      <td>6</td>\n",
       "      <td>tt1716746</td>\n",
       "      <td>Heinrich Kieber - Datendieb</td>\n",
       "      <td>Heinrich Kieber - Datendieb</td>\n",
       "      <td>2010</td>\n",
       "      <td>52.0</td>\n",
       "      <td>Documentary</td>\n",
       "    </tr>\n",
       "    <tr>\n",
       "      <th>260</th>\n",
       "      <td>tt1740684</td>\n",
       "      <td>6.1</td>\n",
       "      <td>76</td>\n",
       "      <td>tt1740684</td>\n",
       "      <td>Midori-ko</td>\n",
       "      <td>Midori-ko</td>\n",
       "      <td>2010</td>\n",
       "      <td>55.0</td>\n",
       "      <td>Animation,Horror,Sci-Fi</td>\n",
       "    </tr>\n",
       "    <tr>\n",
       "      <th>268</th>\n",
       "      <td>tt1753602</td>\n",
       "      <td>7.8</td>\n",
       "      <td>18</td>\n",
       "      <td>tt1753602</td>\n",
       "      <td>Cointelpro 101</td>\n",
       "      <td>Cointelpro 101</td>\n",
       "      <td>2010</td>\n",
       "      <td>56.0</td>\n",
       "      <td>Documentary,History</td>\n",
       "    </tr>\n",
       "  </tbody>\n",
       "</table>\n",
       "</div>"
      ],
      "text/plain": [
       "      movie_id  averagerating  numvotes   movie_id  \\\n",
       "62   tt1409015            8.2        40  tt1409015   \n",
       "154  tt1608345            8.4        34  tt1608345   \n",
       "230  tt1716746            7.7         6  tt1716746   \n",
       "260  tt1740684            6.1        76  tt1740684   \n",
       "268  tt1753602            7.8        18  tt1753602   \n",
       "\n",
       "                   primary_title               original_title  start_year  \\\n",
       "62                      Greenlit                     Greenlit        2010   \n",
       "154           Bastards of Utopia           Bastards of Utopia        2010   \n",
       "230  Heinrich Kieber - Datendieb  Heinrich Kieber - Datendieb        2010   \n",
       "260                    Midori-ko                    Midori-ko        2010   \n",
       "268               Cointelpro 101               Cointelpro 101        2010   \n",
       "\n",
       "     runtime_minutes                   genres  \n",
       "62              50.0              Documentary  \n",
       "154             55.0        Documentary,Drama  \n",
       "230             52.0              Documentary  \n",
       "260             55.0  Animation,Horror,Sci-Fi  \n",
       "268             56.0      Documentary,History  "
      ]
     },
     "execution_count": 17,
     "metadata": {},
     "output_type": "execute_result"
    }
   ],
   "source": [
    "sample= dfP[(dfP[\"runtime_minutes\"] >=0) & (dfP[\"runtime_minutes\"] <=56.0)]\n",
    "\n",
    "sample.head()"
   ]
  },
  {
   "cell_type": "code",
   "execution_count": 18,
   "metadata": {
    "scrolled": true
   },
   "outputs": [
    {
     "data": {
      "text/html": [
       "<div>\n",
       "<style scoped>\n",
       "    .dataframe tbody tr th:only-of-type {\n",
       "        vertical-align: middle;\n",
       "    }\n",
       "\n",
       "    .dataframe tbody tr th {\n",
       "        vertical-align: top;\n",
       "    }\n",
       "\n",
       "    .dataframe thead th {\n",
       "        text-align: right;\n",
       "    }\n",
       "</style>\n",
       "<table border=\"1\" class=\"dataframe\">\n",
       "  <thead>\n",
       "    <tr style=\"text-align: right;\">\n",
       "      <th></th>\n",
       "      <th>averagerating</th>\n",
       "      <th>numvotes</th>\n",
       "      <th>start_year</th>\n",
       "      <th>runtime_minutes</th>\n",
       "    </tr>\n",
       "  </thead>\n",
       "  <tbody>\n",
       "    <tr>\n",
       "      <th>count</th>\n",
       "      <td>3036.000000</td>\n",
       "      <td>3036.000000</td>\n",
       "      <td>3036.000000</td>\n",
       "      <td>3036.000000</td>\n",
       "    </tr>\n",
       "    <tr>\n",
       "      <th>mean</th>\n",
       "      <td>7.144730</td>\n",
       "      <td>58.434124</td>\n",
       "      <td>2013.805007</td>\n",
       "      <td>47.829051</td>\n",
       "    </tr>\n",
       "    <tr>\n",
       "      <th>std</th>\n",
       "      <td>1.427123</td>\n",
       "      <td>546.470661</td>\n",
       "      <td>2.514968</td>\n",
       "      <td>9.537272</td>\n",
       "    </tr>\n",
       "    <tr>\n",
       "      <th>min</th>\n",
       "      <td>1.000000</td>\n",
       "      <td>5.000000</td>\n",
       "      <td>2010.000000</td>\n",
       "      <td>3.000000</td>\n",
       "    </tr>\n",
       "    <tr>\n",
       "      <th>25%</th>\n",
       "      <td>6.500000</td>\n",
       "      <td>7.000000</td>\n",
       "      <td>2012.000000</td>\n",
       "      <td>46.000000</td>\n",
       "    </tr>\n",
       "    <tr>\n",
       "      <th>50%</th>\n",
       "      <td>7.300000</td>\n",
       "      <td>12.000000</td>\n",
       "      <td>2014.000000</td>\n",
       "      <td>51.000000</td>\n",
       "    </tr>\n",
       "    <tr>\n",
       "      <th>75%</th>\n",
       "      <td>8.200000</td>\n",
       "      <td>26.000000</td>\n",
       "      <td>2016.000000</td>\n",
       "      <td>53.000000</td>\n",
       "    </tr>\n",
       "    <tr>\n",
       "      <th>max</th>\n",
       "      <td>10.000000</td>\n",
       "      <td>25596.000000</td>\n",
       "      <td>2019.000000</td>\n",
       "      <td>56.000000</td>\n",
       "    </tr>\n",
       "  </tbody>\n",
       "</table>\n",
       "</div>"
      ],
      "text/plain": [
       "       averagerating      numvotes   start_year  runtime_minutes\n",
       "count    3036.000000   3036.000000  3036.000000      3036.000000\n",
       "mean        7.144730     58.434124  2013.805007        47.829051\n",
       "std         1.427123    546.470661     2.514968         9.537272\n",
       "min         1.000000      5.000000  2010.000000         3.000000\n",
       "25%         6.500000      7.000000  2012.000000        46.000000\n",
       "50%         7.300000     12.000000  2014.000000        51.000000\n",
       "75%         8.200000     26.000000  2016.000000        53.000000\n",
       "max        10.000000  25596.000000  2019.000000        56.000000"
      ]
     },
     "execution_count": 18,
     "metadata": {},
     "output_type": "execute_result"
    }
   ],
   "source": [
    "sample.describe()"
   ]
  },
  {
   "cell_type": "markdown",
   "metadata": {},
   "source": [
    "**Supporting visualization for short film recommendation"
   ]
  },
  {
   "cell_type": "code",
   "execution_count": 26,
   "metadata": {},
   "outputs": [],
   "source": [
    "#Looking at data within the suggested time\n",
    "\n",
    "df_new = dfP[(dfP[\"runtime_minutes\"] >=50.0) & (dfP[\"runtime_minutes\"] <=150.0)]\n",
    "#movie_table = df_new.dropna()\n",
    "#df_new.isna().sum()"
   ]
  },
  {
   "cell_type": "code",
   "execution_count": 35,
   "metadata": {
    "scrolled": true
   },
   "outputs": [
    {
     "data": {
      "image/png": "[encoded data removed]",
      "text/plain": [
       "<Figure size 720x360 with 1 Axes>"
      ]
     },
     "metadata": {
      "needs_background": "light"
     },
     "output_type": "display_data"
    }
   ],
   "source": [
    "fig, ax = plt.subplots(figsize=(10,5))\n",
    "g = sns.lineplot(data=df_new, color = \"green\", x=df_new['runtime_minutes'], y=df_new['averagerating'])\n",
    "g.axvline(x = 56, color = \"black\")\n",
    "ax.set_title(\"Movie Runtime and Their Rating\")\n",
    "ax.set(xlabel=\"Runtime in Minutes\", ylabel=\"Average Rating\");\n"
   ]
  },
  {
   "cell_type": "markdown",
   "metadata": {},
   "source": [
    "Here, we are testing average ratings. Good ratings = good movies. The movies that have runtime less than 56 minutes have higher ratings and this is why you should make these movies.\n",
    "\n",
    "Ho: Movies that have runtime less than 56 minutes do not have higher average rating\n",
    "Ha: Movies that have runtime less than 56 minutes have higher average rating\n",
    "\n",
    "Where average rating = population mean of 6.32\n",
    "i.e Ho: MUo <= 6.32\n",
    "    Ha: MUo > 6.32\n",
    "\n",
    "This is a one-tailed Z test because we know the sample size is more than 30, and we know the population standard deviation.\n",
    "\n",
    "\n",
    "Feed back notes: Subsample s = movies with runtime < 56 (mean= from new dataframe for sample <56), population: all movies (mean can be found by using .describe)\n",
    "\n",
    "Here, we are testing average ratings not runtime...good ratings = good movies. \n",
    "The movies that have runtime less than 56 minutes have higher ratings and this is why you should make these movies\n"
   ]
  },
  {
   "cell_type": "code",
   "execution_count": 29,
   "metadata": {},
   "outputs": [],
   "source": [
    "x_bar = 7.14 #Sample mean\n",
    "MU = 6.32 #Population mean\n",
    "n = 3036 #Sample size\n",
    "sigma = 1.46 #Population SD\n",
    "alpha = 0.05 \n",
    "\n",
    "\n",
    "import numpy as np\n",
    "import scipy.stats as stats"
   ]
  },
  {
   "cell_type": "code",
   "execution_count": 30,
   "metadata": {},
   "outputs": [
    {
     "data": {
      "text/plain": [
       "1.4147365585113178e-210"
      ]
     },
     "execution_count": 30,
     "metadata": {},
     "output_type": "execute_result"
    }
   ],
   "source": [
    "z = (x_bar - MU)/(sigma/np.sqrt(n))\n",
    "p_value = stats.norm.sf(z)\n",
    "p_value"
   ]
  },
  {
   "cell_type": "code",
   "execution_count": 31,
   "metadata": {},
   "outputs": [
    {
     "data": {
      "text/plain": [
       "30.94652437655846"
      ]
     },
     "execution_count": 31,
     "metadata": {},
     "output_type": "execute_result"
    }
   ],
   "source": [
    "z"
   ]
  },
  {
   "cell_type": "markdown",
   "metadata": {},
   "source": [
    "**The p_value is less than alpha of 0.05, this means we reject the null hypothesis. The movies with runtime less tham 56 minutes have significantly higher rating.\n"
   ]
  },
  {
   "cell_type": "markdown",
   "metadata": {},
   "source": [
    "**Recommendation: Cost/Budget\n",
    "\n",
    "Majority of movies cost between 10 million and 150 million. We recommend budgetting about 200M for your originals to standout yet be profitable  "
   ]
  },
  {
   "cell_type": "code",
   "execution_count": 94,
   "metadata": {
    "scrolled": true
   },
   "outputs": [
    {
     "data": {
      "text/html": [
       "<div>\n",
       "<style scoped>\n",
       "    .dataframe tbody tr th:only-of-type {\n",
       "        vertical-align: middle;\n",
       "    }\n",
       "\n",
       "    .dataframe tbody tr th {\n",
       "        vertical-align: top;\n",
       "    }\n",
       "\n",
       "    .dataframe thead th {\n",
       "        text-align: right;\n",
       "    }\n",
       "</style>\n",
       "<table border=\"1\" class=\"dataframe\">\n",
       "  <thead>\n",
       "    <tr style=\"text-align: right;\">\n",
       "      <th></th>\n",
       "      <th>Unnamed: 0</th>\n",
       "      <th>id</th>\n",
       "      <th>release_date</th>\n",
       "      <th>movie</th>\n",
       "      <th>production_budget</th>\n",
       "      <th>domestic_gross</th>\n",
       "      <th>worldwide_gross</th>\n",
       "      <th>foreign_gross</th>\n",
       "      <th>domestic_profit</th>\n",
       "      <th>foreign_profit</th>\n",
       "      <th>worldwide_profit</th>\n",
       "    </tr>\n",
       "  </thead>\n",
       "  <tbody>\n",
       "    <tr>\n",
       "      <th>0</th>\n",
       "      <td>0</td>\n",
       "      <td>1</td>\n",
       "      <td>Dec 18, 2009</td>\n",
       "      <td>Avatar</td>\n",
       "      <td>425000000</td>\n",
       "      <td>760507625</td>\n",
       "      <td>2776345279</td>\n",
       "      <td>2015837654</td>\n",
       "      <td>335507625</td>\n",
       "      <td>1590837654</td>\n",
       "      <td>2351345279</td>\n",
       "    </tr>\n",
       "    <tr>\n",
       "      <th>1</th>\n",
       "      <td>1</td>\n",
       "      <td>2</td>\n",
       "      <td>May 20, 2011</td>\n",
       "      <td>Pirates of the Caribbean: On Stranger Tides</td>\n",
       "      <td>410600000</td>\n",
       "      <td>241063875</td>\n",
       "      <td>1045663875</td>\n",
       "      <td>804600000</td>\n",
       "      <td>-169536125</td>\n",
       "      <td>394000000</td>\n",
       "      <td>635063875</td>\n",
       "    </tr>\n",
       "    <tr>\n",
       "      <th>2</th>\n",
       "      <td>2</td>\n",
       "      <td>3</td>\n",
       "      <td>Jun 7, 2019</td>\n",
       "      <td>Dark Phoenix</td>\n",
       "      <td>350000000</td>\n",
       "      <td>42762350</td>\n",
       "      <td>149762350</td>\n",
       "      <td>107000000</td>\n",
       "      <td>-307237650</td>\n",
       "      <td>-243000000</td>\n",
       "      <td>-200237650</td>\n",
       "    </tr>\n",
       "  </tbody>\n",
       "</table>\n",
       "</div>"
      ],
      "text/plain": [
       "   Unnamed: 0  id  release_date                                        movie  \\\n",
       "0           0   1  Dec 18, 2009                                       Avatar   \n",
       "1           1   2  May 20, 2011  Pirates of the Caribbean: On Stranger Tides   \n",
       "2           2   3   Jun 7, 2019                                 Dark Phoenix   \n",
       "\n",
       "   production_budget  domestic_gross  worldwide_gross  foreign_gross  \\\n",
       "0          425000000       760507625       2776345279     2015837654   \n",
       "1          410600000       241063875       1045663875      804600000   \n",
       "2          350000000        42762350        149762350      107000000   \n",
       "\n",
       "   domestic_profit  foreign_profit  worldwide_profit  \n",
       "0        335507625      1590837654        2351345279  \n",
       "1       -169536125       394000000         635063875  \n",
       "2       -307237650      -243000000        -200237650  "
      ]
     },
     "execution_count": 94,
     "metadata": {},
     "output_type": "execute_result"
    }
   ],
   "source": [
    "movie_budget = pd.read_csv(\"Datasets/movie_budgets_clean.csv\")\n",
    "movie_budget.head(3)"
   ]
  },
  {
   "cell_type": "markdown",
   "metadata": {},
   "source": [
    "**First Vizualiation that shows movies what most movies cost"
   ]
  },
  {
   "cell_type": "code",
   "execution_count": 95,
   "metadata": {
    "scrolled": true
   },
   "outputs": [
    {
     "data": {
      "image/png": "[encoded data removed]",
      "text/plain": [
       "<Figure size 720x360 with 1 Axes>"
      ]
     },
     "metadata": {
      "needs_background": "light"
     },
     "output_type": "display_data"
    }
   ],
   "source": [
    "fig, ax = plt.subplots(figsize=(10,5))\n",
    "sns.histplot(data=movie_budget, x=movie_budget[\"production_budget\"])\n",
    "ax.set(xlabel=\"Production Budget in Million Dollars\", ylabel=\"Count\"); \n",
    "\n",
    "#This shows that most movies are within the budget of 10M AND 150M "
   ]
  },
  {
   "cell_type": "markdown",
   "metadata": {},
   "source": [
    "**Now that we see how much most movies cost, we preoceed to investigate how much movies gross both domestically and internationally based on the reported budget."
   ]
  },
  {
   "cell_type": "code",
   "execution_count": 96,
   "metadata": {
    "scrolled": false
   },
   "outputs": [
    {
     "data": {
      "image/png": "[encoded data removed]",
      "text/plain": [
       "<Figure size 360x360 with 1 Axes>"
      ]
     },
     "metadata": {
      "needs_background": "light"
     },
     "output_type": "display_data"
    }
   ],
   "source": [
    "fig, ax = plt.subplots(figsize=(5,5))\n",
    "sns.scatterplot(data=movie_budget, x=movie_budget[\"production_budget\"], y=movie_budget[\"domestic_gross\"])\n",
    "ax.set(xlabel=\"Production Budget in Million Dollars\", ylabel=\"Domestic Gross in Million Dollas\"); "
   ]
  },
  {
   "cell_type": "code",
   "execution_count": 97,
   "metadata": {},
   "outputs": [
    {
     "data": {
      "image/png": "[encoded data removed]",
      "text/plain": [
       "<Figure size 360x360 with 1 Axes>"
      ]
     },
     "metadata": {
      "needs_background": "light"
     },
     "output_type": "display_data"
    }
   ],
   "source": [
    "fig, ax = plt.subplots(figsize=(5,5))\n",
    "sns.scatterplot(data=movie_budget, x=movie_budget[\"production_budget\"], y=movie_budget[\"foreign_gross\"])\n",
    "ax.set(xlabel=\"Production Budget in Million Dollars\", ylabel=\"Foreign Gross in Billion Dollas\"); "
   ]
  },
  {
   "cell_type": "markdown",
   "metadata": {},
   "source": [
    "**As shown above, movies in the 10M - 150M range generally have a profit of about 10 - 200 million while a few in the popular budget range do well but unprecendently. \n",
    "\n",
    "**Holding all other factors (actors, movie quality, script quality, etc) constant, an investment of 200M is a nice spot to start as the gross for this budget is higher than the majority and competitive with movies that cost almost twice its budet  "
   ]
  },
  {
   "cell_type": "markdown",
   "metadata": {},
   "source": [
    "**ASIDE: This recommendation sets the stage for the argument that movies luanched internationally do \n",
    "         better than domestic movies because the gross is already in billion here. \n",
    "         \n",
    "         Now you can discuss profit info. et al"
   ]
  },
  {
   "cell_type": "code",
   "execution_count": null,
   "metadata": {},
   "outputs": [],
   "source": []
  }
 ],
 "metadata": {
  "kernelspec": {
   "display_name": "Python (learn-env)",
   "language": "python",
   "name": "learn-env"
  },
  "language_info": {
   "codemirror_mode": {
    "name": "ipython",
    "version": 3
   },
   "file_extension": ".py",
   "mimetype": "text/x-python",
   "name": "python",
   "nbconvert_exporter": "python",
   "pygments_lexer": "ipython3",
   "version": "3.8.5"
  }
 },
 "nbformat": 4,
 "nbformat_minor": 4
}
